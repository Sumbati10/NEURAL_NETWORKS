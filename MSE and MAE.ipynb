{
 "cells": [
  {
   "cell_type": "code",
   "execution_count": 1,
   "id": "5e63f4c8",
   "metadata": {},
   "outputs": [
    {
     "name": "stdout",
     "output_type": "stream",
     "text": [
      "Mean Squared Error: 0.375\n"
     ]
    }
   ],
   "source": [
    "import numpy as np\n",
    "\n",
    "# Mean Squared Error\n",
    "def mse(y, y_pred):\n",
    "    return np.sum((y - y_pred) ** 2) / np.size(y)\n",
    "\n",
    "# Example usage\n",
    "y_true = np.array([3, -0.5, 2, 7])\n",
    "y_pred = np.array([2.5, 0.0, 2, 8])\n",
    "\n",
    "mse_value = mse(y_true, y_pred)\n",
    "print(\"Mean Squared Error:\", mse_value)\n"
   ]
  },
  {
   "cell_type": "code",
   "execution_count": 2,
   "id": "13480ea7",
   "metadata": {
    "scrolled": true
   },
   "outputs": [
    {
     "name": "stdout",
     "output_type": "stream",
     "text": [
      "Mean Bias Error: -0.25\n"
     ]
    }
   ],
   "source": [
    "import numpy as np\n",
    "\n",
    "# Mean Bias Error\n",
    "def mbe(y, y_pred):\n",
    "    return np.sum(y - y_pred) / np.size(y)\n",
    "\n",
    "# Example usage\n",
    "y_true = np.array([3, -0.5, 2, 7])\n",
    "y_pred = np.array([2.5, 0.0, 2, 8])\n",
    "\n",
    "mbe_value = mbe(y_true, y_pred)\n",
    "print(\"Mean Bias Error:\", mbe_value)\n"
   ]
  },
  {
   "cell_type": "code",
   "execution_count": 3,
   "id": "642676c0",
   "metadata": {},
   "outputs": [
    {
     "name": "stdout",
     "output_type": "stream",
     "text": [
      "Mean Absolute Error: 0.5\n"
     ]
    }
   ],
   "source": [
    "import numpy as np\n",
    "\n",
    "# Mean Absolute Error\n",
    "def mae(y, y_pred):\n",
    "    return np.mean(np.abs(y - y_pred))\n",
    "\n",
    "# Example usage\n",
    "y_true = np.array([3, -0.5, 2, 7])\n",
    "y_pred = np.array([2.5, 0.0, 2, 8])\n",
    "\n",
    "mae_value = mae(y_true, y_pred)\n",
    "print(\"Mean Absolute Error:\", mae_value)\n"
   ]
  },
  {
   "cell_type": "code",
   "execution_count": 4,
   "id": "7a92d361",
   "metadata": {},
   "outputs": [
    {
     "name": "stdout",
     "output_type": "stream",
     "text": [
      "Log Loss: 9.992007221626415e-16\n"
     ]
    }
   ],
   "source": [
    "import numpy as np\n",
    "\n",
    "def log_loss(y_true, y_predicted, epsilon=1e-15):\n",
    "    y_predicted_new = np.maximum(np.minimum(y_predicted, 1-epsilon), epsilon)\n",
    "    return -np.mean(y_true*np.log(y_predicted_new) + (1 - y_true) * np.log(1-y_predicted_new))\n",
    "\n",
    "# Example usage\n",
    "y_true = np.array([1, 1, 0, 0, 1])\n",
    "y_predicted = np.array([1, 1, 0, 0, 1])\n",
    "\n",
    "loss_value = log_loss(y_true, y_predicted)\n",
    "print(\"Log Loss:\", loss_value)\n"
   ]
  },
  {
   "cell_type": "code",
   "execution_count": null,
   "id": "8e634b32",
   "metadata": {},
   "outputs": [],
   "source": []
  }
 ],
 "metadata": {
  "kernelspec": {
   "display_name": "Python 3 (ipykernel)",
   "language": "python",
   "name": "python3"
  },
  "language_info": {
   "codemirror_mode": {
    "name": "ipython",
    "version": 3
   },
   "file_extension": ".py",
   "mimetype": "text/x-python",
   "name": "python",
   "nbconvert_exporter": "python",
   "pygments_lexer": "ipython3",
   "version": "3.11.4"
  }
 },
 "nbformat": 4,
 "nbformat_minor": 5
}
