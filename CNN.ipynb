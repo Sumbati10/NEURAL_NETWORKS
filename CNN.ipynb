{
 "cells": [
  {
   "cell_type": "markdown",
   "id": "aec148a2",
   "metadata": {},
   "source": [
    "# CONVOLUTIONAL NEURAL NETWORK"
   ]
  },
  {
   "cell_type": "markdown",
   "id": "b121f1fd",
   "metadata": {},
   "source": [
    "- Type of artificial nueral netwpork designed fro processing strcutured like data.\n",
    "- Well suited for tasks involving images, due to thier baility to effctively capture spatial hierachies of featurws"
   ]
  },
  {
   "cell_type": "markdown",
   "id": "c0e9d8f3",
   "metadata": {},
   "source": [
    "- A building block for the CNN\n",
    "- Convoltional layers- core buiding block of CNNS. They apply filters to input images to detect features like edges, patterns and textures\n",
    "- Filters slide across the image, performuing element wise multiplication and aggretaing reuslst to producce feature maps.\n"
   ]
  },
  {
   "cell_type": "markdown",
   "id": "d244ddc0",
   "metadata": {},
   "source": [
    "- layer performs dot product between tow matrices where one matrix isteh set of learnable paraemeters otherwise known as "
   ]
  },
  {
   "cell_type": "code",
   "execution_count": null,
   "id": "620aba0b",
   "metadata": {},
   "outputs": [],
   "source": []
  }
 ],
 "metadata": {
  "kernelspec": {
   "display_name": "Python 3 (ipykernel)",
   "language": "python",
   "name": "python3"
  },
  "language_info": {
   "codemirror_mode": {
    "name": "ipython",
    "version": 3
   },
   "file_extension": ".py",
   "mimetype": "text/x-python",
   "name": "python",
   "nbconvert_exporter": "python",
   "pygments_lexer": "ipython3",
   "version": "3.11.4"
  }
 },
 "nbformat": 4,
 "nbformat_minor": 5
}
