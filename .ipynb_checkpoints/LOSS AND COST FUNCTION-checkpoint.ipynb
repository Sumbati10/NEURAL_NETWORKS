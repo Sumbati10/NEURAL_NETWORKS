{
 "cells": [
  {
   "cell_type": "code",
   "execution_count": 1,
   "id": "f575e4f8",
   "metadata": {},
   "outputs": [],
   "source": [
    "import numpy as np\n"
   ]
  },
  {
   "cell_type": "code",
   "execution_count": 7,
   "id": "9dfb06d1",
   "metadata": {},
   "outputs": [],
   "source": [
    "y_predicted = np.array([1, 1, 0, 0, 1])\n",
    "y_true = np.array([0.30, 0.7, 1, 0, 0.5])"
   ]
  },
  {
   "cell_type": "markdown",
   "id": "8c59c151",
   "metadata": {},
   "source": [
    "# Implement MAE"
   ]
  },
  {
   "cell_type": "code",
   "execution_count": 16,
   "id": "23f302e6",
   "metadata": {},
   "outputs": [
    {
     "name": "stdout",
     "output_type": "stream",
     "text": [
      "Total error: 2.5\n",
      "Mean Absolute Error: 0.5\n"
     ]
    }
   ],
   "source": [
    "def mae(y_true, y_predicted):\n",
    "    total_error = 0  # Corrected variable name\n",
    "    for yt, yp in zip(y_true, y_predicted):\n",
    "        total_error += abs(yt - yp)\n",
    "    print(\"Total error:\", total_error)\n",
    "    \n",
    "    mae = total_error / len(y_true)\n",
    "    return mae\n",
    "\n",
    "\n",
    "mae_value = mae(y_true, y_predicted)\n",
    "print(\"Mean Absolute Error:\", mae_value)\n"
   ]
  },
  {
   "cell_type": "code",
   "execution_count": 17,
   "id": "90eb9d61",
   "metadata": {},
   "outputs": [
    {
     "name": "stdout",
     "output_type": "stream",
     "text": [
      "Total error: 2.5\n"
     ]
    },
    {
     "data": {
      "text/plain": [
       "0.5"
      ]
     },
     "execution_count": 17,
     "metadata": {},
     "output_type": "execute_result"
    }
   ],
   "source": [
    "np.mean(abs(mae(y_true, y_predicted)))"
   ]
  },
  {
   "cell_type": "code",
   "execution_count": 18,
   "id": "61cc7d1d",
   "metadata": {},
   "outputs": [
    {
     "name": "stdout",
     "output_type": "stream",
     "text": [
      "Total error: 2.5\n"
     ]
    },
    {
     "data": {
      "text/plain": [
       "0.5"
      ]
     },
     "execution_count": 18,
     "metadata": {},
     "output_type": "execute_result"
    }
   ],
   "source": [
    "np.sum(abs(mae(y_true, y_predicted)))"
   ]
  },
  {
   "cell_type": "markdown",
   "id": "47a596b3",
   "metadata": {},
   "source": [
    "# loss function"
   ]
  },
  {
   "cell_type": "code",
   "execution_count": 19,
   "id": "955bf6eb",
   "metadata": {},
   "outputs": [
    {
     "data": {
      "text/plain": [
       "array([-28.3241683])"
      ]
     },
     "execution_count": 19,
     "metadata": {},
     "output_type": "execute_result"
    }
   ],
   "source": [
    "np.log([0.0000000000005])"
   ]
  },
  {
   "cell_type": "code",
   "execution_count": 27,
   "id": "aaad3bd3",
   "metadata": {},
   "outputs": [],
   "source": [
    "epsilon = 1e-15\n",
    "\n"
   ]
  },
  {
   "cell_type": "code",
   "execution_count": 28,
   "id": "bb7c14cf",
   "metadata": {},
   "outputs": [
    {
     "data": {
      "text/plain": [
       "array([1, 1, 0, 0, 1])"
      ]
     },
     "execution_count": 28,
     "metadata": {},
     "output_type": "execute_result"
    }
   ],
   "source": [
    "y_predicted"
   ]
  },
  {
   "cell_type": "code",
   "execution_count": 29,
   "id": "5afc3dfb",
   "metadata": {},
   "outputs": [
    {
     "data": {
      "text/plain": [
       "[1, 1, 1e-15, 1e-15, 1]"
      ]
     },
     "execution_count": 29,
     "metadata": {},
     "output_type": "execute_result"
    }
   ],
   "source": [
    "y_predicted_new = [max(i, epsilon) for i in y_predicted]\n",
    "y_predicted_new "
   ]
  },
  {
   "cell_type": "code",
   "execution_count": 30,
   "id": "b5b2f303",
   "metadata": {},
   "outputs": [
    {
     "data": {
      "text/plain": [
       "[0.999999999999999, 0.999999999999999, 1e-15, 1e-15, 0.999999999999999]"
      ]
     },
     "execution_count": 30,
     "metadata": {},
     "output_type": "execute_result"
    }
   ],
   "source": [
    "y_predicted_new  = [min(i, 1-epsilon) for i in y_predicted_new]\n",
    "y_predicted_new "
   ]
  },
  {
   "cell_type": "code",
   "execution_count": 31,
   "id": "c69a674f",
   "metadata": {},
   "outputs": [
    {
     "data": {
      "text/plain": [
       "array([-9.99200722e-16, -9.99200722e-16, -3.45387764e+01, -3.45387764e+01,\n",
       "       -9.99200722e-16])"
      ]
     },
     "execution_count": 31,
     "metadata": {},
     "output_type": "execute_result"
    }
   ],
   "source": [
    "y_predicted_new = np.array(y_predicted_new)\n",
    "np.log(y_predicted_new)"
   ]
  },
  {
   "cell_type": "code",
   "execution_count": 32,
   "id": "303551d7",
   "metadata": {},
   "outputs": [
    {
     "data": {
      "text/plain": [
       "17.2696280766844"
      ]
     },
     "execution_count": 32,
     "metadata": {},
     "output_type": "execute_result"
    }
   ],
   "source": [
    "-np.mean(y_true*np.log(y_predicted_new) + (1 - y_true) * np.log(1-y_predicted_new))"
   ]
  },
  {
   "cell_type": "code",
   "execution_count": 33,
   "id": "e4c56b1b",
   "metadata": {},
   "outputs": [],
   "source": [
    "def log_loss(y_true, y_predicted):\n",
    "    y_predicted_new = [max(i, epsilon) for i in y_predicted]\n",
    "    y_predicted_new  = [min(i, 1-epsilon) for i in y_predicted_new]\n",
    "    y_predicted_new = np.array(y_predicted_new)\n",
    "    return -np.mean(y_true*np.log(y_predicted_new) + (1 - y_true) * np.log(1-y_predicted_new))\n",
    "\n"
   ]
  },
  {
   "cell_type": "code",
   "execution_count": 34,
   "id": "d24326ea",
   "metadata": {},
   "outputs": [
    {
     "data": {
      "text/plain": [
       "17.2696280766844"
      ]
     },
     "execution_count": 34,
     "metadata": {},
     "output_type": "execute_result"
    }
   ],
   "source": [
    "log_loss(y_true, y_predicted)"
   ]
  },
  {
   "cell_type": "code",
   "execution_count": null,
   "id": "ceed470d",
   "metadata": {},
   "outputs": [],
   "source": []
  }
 ],
 "metadata": {
  "kernelspec": {
   "display_name": "Python 3 (ipykernel)",
   "language": "python",
   "name": "python3"
  },
  "language_info": {
   "codemirror_mode": {
    "name": "ipython",
    "version": 3
   },
   "file_extension": ".py",
   "mimetype": "text/x-python",
   "name": "python",
   "nbconvert_exporter": "python",
   "pygments_lexer": "ipython3",
   "version": "3.11.4"
  }
 },
 "nbformat": 4,
 "nbformat_minor": 5
}
